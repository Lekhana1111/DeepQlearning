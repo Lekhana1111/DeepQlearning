{
  "cells": [
    {
      "cell_type": "code",
      "execution_count": 32,
      "metadata": {
        "colab": {
          "base_uri": "https://localhost:8080/"
        },
        "id": "OJQUvyAlEC42",
        "outputId": "43d85086-9dcb-4fea-9b8e-82775fb722c8"
      },
      "outputs": [
        {
          "output_type": "stream",
          "name": "stdout",
          "text": [
            "Requirement already satisfied: gymnasium in /usr/local/lib/python3.10/dist-packages (0.29.1)\n",
            "Requirement already satisfied: numpy>=1.21.0 in /usr/local/lib/python3.10/dist-packages (from gymnasium) (1.26.4)\n",
            "Requirement already satisfied: cloudpickle>=1.2.0 in /usr/local/lib/python3.10/dist-packages (from gymnasium) (3.0.0)\n",
            "Requirement already satisfied: typing-extensions>=4.3.0 in /usr/local/lib/python3.10/dist-packages (from gymnasium) (4.12.2)\n",
            "Requirement already satisfied: farama-notifications>=0.0.1 in /usr/local/lib/python3.10/dist-packages (from gymnasium) (0.0.4)\n"
          ]
        }
      ],
      "source": [
        "!pip install gymnasium"
      ]
    },
    {
      "cell_type": "code",
      "execution_count": 60,
      "metadata": {
        "colab": {
          "base_uri": "https://localhost:8080/"
        },
        "id": "lGN-Jy0lD2g9",
        "outputId": "954f6a66-6549-4ee2-fd74-368cb5bca07c"
      },
      "outputs": [
        {
          "output_type": "stream",
          "name": "stdout",
          "text": [
            "Num GPUs Available:  0\n",
            "Num CPUs Available:  1\n"
          ]
        }
      ],
      "source": [
        "import random, time\n",
        "from collections import deque, namedtuple\n",
        "\n",
        "import gymnasium as gym\n",
        "import numpy as np\n",
        "import tensorflow as tf\n",
        "print(\"Num GPUs Available: \", len(tf.config.list_physical_devices('GPU')))\n",
        "print(\"Num CPUs Available: \", len(tf.config.list_physical_devices('CPU')))\n",
        "\n",
        "from tqdm.auto import tqdm\n",
        "\n",
        "n_episodes = 50  # play 1000 games\n",
        "eps = 0.75 # exploration rate, probability of choosing random action\n",
        "eps_decay = 0.9975  # eps gets multiplied by this number each epoch...\n",
        "min_eps = 0.1  # ...until this minimum eps is reached\n",
        "gamma = 1.5 # discount\n",
        "max_memory_size = 10000  # size of the replay memory\n",
        "batch_size = 16  # batch size of the neural network training\n",
        "min_length = 160  # minimum length of the replay memory for training, before it reached this length, no gradient updates happen\n",
        "memory_parts = [\n",
        "    \"state\",\n",
        "    \"action\",\n",
        "    \"next_state\",\n",
        "    \"reward\",\n",
        "    \"done\",\n",
        "]  # nice names for the part of replay memory, otherweise the names are 0-5"
      ]
    },
    {
      "cell_type": "code",
      "execution_count": 34,
      "metadata": {
        "colab": {
          "base_uri": "https://localhost:8080/"
        },
        "id": "xJjoVUSFZ3Yp",
        "outputId": "e5c5e643-afd9-4c1a-e41b-e3fe077a536c"
      },
      "outputs": [
        {
          "output_type": "stream",
          "name": "stdout",
          "text": [
            "Drive already mounted at /content/drive; to attempt to forcibly remount, call drive.mount(\"/content/drive\", force_remount=True).\n"
          ]
        }
      ],
      "source": [
        "from google.colab import drive\n",
        "drive.mount('/content/drive')"
      ]
    },
    {
      "cell_type": "markdown",
      "source": [
        "# Learning A Model"
      ],
      "metadata": {
        "id": "3RZqb4JV7Ag2"
      }
    },
    {
      "cell_type": "code",
      "execution_count": 35,
      "metadata": {
        "id": "hERWxJ3jEMMH"
      },
      "outputs": [],
      "source": [
        "Memory = namedtuple(\"Memory\", memory_parts)  # a single entry of the memory replay\n",
        "\n",
        "\n",
        "class ReplayMemory:\n",
        "    def __init__(self, max_length=None):\n",
        "        self.max_length = max_length\n",
        "        self.memory = deque(maxlen=max_length)\n",
        "\n",
        "    def store(self, data):\n",
        "        self.memory.append(data)\n",
        "\n",
        "    def _sample(self, k):\n",
        "        return random.sample(self.memory, k)\n",
        "\n",
        "    def structured_sample(self, k):\n",
        "        batch = self._sample(k)\n",
        "        result = {}\n",
        "        for i, part in enumerate(memory_parts):\n",
        "            result[part] = np.array([row[i] for row in batch])\n",
        "\n",
        "        return result\n",
        "\n",
        "    def __len__(self):\n",
        "        return len(self.memory)"
      ]
    },
    {
      "cell_type": "code",
      "execution_count": 36,
      "metadata": {
        "id": "AWYz3_bUETMT"
      },
      "outputs": [],
      "source": [
        "model = tf.keras.Sequential(\n",
        "    [\n",
        "        tf.keras.layers.Input(shape=(4,)),  # Define input shape with Input layer\n",
        "        tf.keras.layers.Dense(128, activation=\"relu\"),\n",
        "        tf.keras.layers.Dense(64, activation=\"relu\"),\n",
        "        tf.keras.layers.Dense(16, activation=\"relu\"),\n",
        "        tf.keras.layers.Dense(2, activation=\"linear\"),  # 2 actions: go left or go right\n",
        "    ]\n",
        ")\n",
        "model.compile(\n",
        "    loss=tf.keras.losses.MeanSquaredError(),\n",
        "    optimizer=tf.keras.optimizers.Adam(learning_rate=0.01),\n",
        ")"
      ]
    },
    {
      "cell_type": "code",
      "execution_count": 41,
      "metadata": {
        "colab": {
          "base_uri": "https://localhost:8080/",
          "height": 83,
          "referenced_widgets": [
            "8f1b2b873213444aab047f4058fe29c6",
            "1897359f23614389bb792aac4a1cd50b",
            "9da0ea0de48947d7830dde811167e873",
            "9ca0df7ea1ae42268994be9360e58fc3",
            "541edc18f965429385db581e9d07ce1d",
            "949b884898244d1eb8a4632a60f2f445",
            "603d3117823b42d1b03a86b410c70423",
            "aff28644ab864e9da2b97fae6b4a4574",
            "ce92973ab29b440b9e736a1da4a4134c",
            "51b1ae7d77384e0080ac7d6bfcbe0cd9",
            "0bc409c0295546aa8b5b675570fad855"
          ]
        },
        "id": "A3tUkXVAEzOI",
        "outputId": "74c69d86-c7f5-42f5-f9f1-a1523e22e6a5"
      },
      "outputs": [
        {
          "output_type": "display_data",
          "data": {
            "text/plain": [
              "  0%|          | 0/50 [00:00<?, ?it/s]"
            ],
            "application/vnd.jupyter.widget-view+json": {
              "version_major": 2,
              "version_minor": 0,
              "model_id": "8f1b2b873213444aab047f4058fe29c6"
            }
          },
          "metadata": {}
        },
        {
          "output_type": "stream",
          "name": "stdout",
          "text": [
            "/content/drive/My Drive/my_QmodelB_0iterations.keras\n",
            "/content/drive/My Drive/my_QmodelB_49iterations.keras\n"
          ]
        }
      ],
      "source": [
        "env = gym.make(\"CartPole-v1\")\n",
        "replay_memory = ReplayMemory(max_length=max_memory_size)\n",
        "\n",
        "for episode in tqdm(range(n_episodes)):  # tqdm makes a nice proress bar\n",
        "    state, _ = env.reset()\n",
        "    done = False\n",
        "\n",
        "    while not done:\n",
        "        if random.random() < eps:\n",
        "            action = env.action_space.sample()  # random action\n",
        "        else:\n",
        "            action = model.predict(state[np.newaxis, :], verbose=False).argmax()  # best action according to the model\n",
        "\n",
        "        next_state, reward, done, _, _ = env.step(action)\n",
        "        memory = Memory(state, action, next_state, reward, done)\n",
        "        replay_memory.store(memory)\n",
        "\n",
        "        if len(replay_memory) >= min_length:\n",
        "            batch = replay_memory.structured_sample(batch_size)  # get samples from the replay memory\n",
        "\n",
        "            target_batch = batch[\"reward\"] + gamma * model.predict(batch[\"next_state\"], verbose=False).max(axis=1) * (\n",
        "                1 - batch[\"done\"]\n",
        "            )  # R(s, a) + γ·maxₐ N(s') if not a terminal state, otherwise R(s, a)\n",
        "            targets = model.predict(batch[\"state\"], verbose=False)\n",
        "            targets[\n",
        "                range(batch_size), batch[\"action\"]\n",
        "            ] = target_batch  # set the target for the action that was done and leave the outputs of other 3 actions as they are\n",
        "\n",
        "            model.fit(batch[\"state\"], targets, verbose=False, batch_size=batch_size)  # train for one epoch\n",
        "\n",
        "        state = next_state\n",
        "    if episode % 100 == 0:\n",
        "      save_path = '/content/drive/My Drive/my_QmodelB_{}iterations.keras'.format(episode)\n",
        "      print (save_path)\n",
        "      model.save(save_path)\n",
        "    eps = max(min_eps, eps * eps_decay)\n",
        "save_path = '/content/drive/My Drive/my_QmodelB_{}iterations.keras'.format(episode)\n",
        "print (save_path)\n",
        "model.save(save_path)"
      ]
    },
    {
      "cell_type": "code",
      "source": [
        "eps_decay = 0.9975\n",
        "min_eps = 0.01\n",
        "eps = 1.0\n",
        "for i in range(1000):\n",
        "  eps = max(min_eps, eps * eps_decay)\n",
        "  if (i % 10==0):\n",
        "    print (i, eps)\n",
        "\n",
        "print(eps)"
      ],
      "metadata": {
        "colab": {
          "base_uri": "https://localhost:8080/"
        },
        "id": "3fqH3YTuBFo2",
        "outputId": "e829dc04-f029-44d1-85bd-a58708801564"
      },
      "execution_count": 43,
      "outputs": [
        {
          "output_type": "stream",
          "name": "stdout",
          "text": [
            "0 0.9975\n",
            "10 0.972841184720621\n",
            "20 0.9487919505650338\n",
            "30 0.9253372283118559\n",
            "40 0.9024623212601521\n",
            "50 0.8801528960204993\n",
            "60 0.8583949735337022\n",
            "70 0.8371749203115317\n",
            "80 0.8164794398939969\n",
            "90 0.7962955645177996\n",
            "100 0.7766106469907487\n",
            "110 0.7574123527670455\n",
            "120 0.7386886522184717\n",
            "130 0.7204278130966384\n",
            "140 0.7026183931815739\n",
            "150 0.6852492331120414\n",
            "160 0.668309449393098\n",
            "170 0.6517884275765086\n",
            "180 0.6356758156097455\n",
            "190 0.6199615173494054\n",
            "200 0.6046356862349768\n",
            "210 0.5896887191189979\n",
            "220 0.5751112502497359\n",
            "230 0.5608941454026172\n",
            "240 0.5470284961567343\n",
            "250 0.5335056143128392\n",
            "260 0.5203170264493284\n",
            "270 0.5074544686128074\n",
            "280 0.49490988113990647\n",
            "290 0.48267540360710603\n",
            "300 0.4707433699054044\n",
            "310 0.45910630343674297\n",
            "320 0.4477569124291788\n",
            "330 0.43668808536786924\n",
            "340 0.42589288653900503\n",
            "350 0.4153645516839004\n",
            "360 0.40509648376051655\n",
            "370 0.39508224880976317\n",
            "380 0.3853155719239871\n",
            "390 0.375790333315123\n",
            "400 0.3665005644800414\n",
            "410 0.3574404444606915\n",
            "420 0.34860429619669614\n",
            "430 0.33998658296811235\n",
            "440 0.33158190492612943\n",
            "450 0.3233849957095299\n",
            "460 0.3153907191447939\n",
            "470 0.30759406602777933\n",
            "480 0.2999901509849602\n",
            "490 0.2925742094122572\n",
            "500 0.28534159448954327\n",
            "510 0.2782877742689506\n",
            "520 0.2714083288351585\n",
            "530 0.26469894753587914\n",
            "540 0.2581554262808082\n",
            "550 0.25177366490734665\n",
            "560 0.24554966461144434\n",
            "570 0.23947952544195356\n",
            "580 0.23355944385692448\n",
            "590 0.22778571034031053\n",
            "600 0.22215470707758989\n",
            "610 0.21666290568884716\n",
            "620 0.21130686501789497\n",
            "630 0.20608322897604944\n",
            "640 0.20098872443920898\n",
            "650 0.19602015919691876\n",
            "660 0.19117441995213547\n",
            "670 0.18644847037043907\n",
            "680 0.1818393491774692\n",
            "690 0.17734416830339428\n",
            "700 0.17296011107325038\n",
            "710 0.16868443044201611\n",
            "720 0.16451444727331746\n",
            "730 0.160447548660684\n",
            "740 0.15648118629030508\n",
            "750 0.15261287484425923\n",
            "760 0.14884019044321703\n",
            "770 0.14516076912764123\n",
            "780 0.14157230537653234\n",
            "790 0.13807255066279225\n",
            "800 0.13465931204429948\n",
            "810 0.13133045078981465\n",
            "820 0.12808388103885365\n",
            "830 0.12491756849469021\n",
            "840 0.1218295291496679\n",
            "850 0.1188178280420234\n",
            "860 0.11588057804344168\n",
            "870 0.11301593867658365\n",
            "880 0.11022211496184528\n",
            "890 0.1074973562926256\n",
            "900 0.10483995533839859\n",
            "910 0.10224824697490191\n",
            "920 0.09972060724077215\n",
            "930 0.09725545231997243\n",
            "940 0.09485123754937526\n",
            "950 0.09250645645087847\n",
            "960 0.09021963978744776\n",
            "970 0.08798935464249458\n",
            "980 0.08581420352201231\n",
            "990 0.0836928234789082\n",
            "0.08182845639998225\n"
          ]
        }
      ]
    },
    {
      "cell_type": "markdown",
      "source": [
        "# Test Learned Models"
      ],
      "metadata": {
        "id": "o3iVpRrR5AK9"
      }
    },
    {
      "cell_type": "code",
      "source": [
        "## Choose Model\n",
        "version = 1\n",
        "models = [(0, '1-3Qdn2dlV5pLhjfAyODXumKIRlU7vTeQ'), (49, '1-7H4akC0ZWv1sSXJmmQXKW9pcBa1jsDz')]\n",
        "!gdown {models[version][1]}\n",
        "save_path=f'my_QmodelB_{models[version][0]}iterations.keras'\n",
        "print(save_path)"
      ],
      "metadata": {
        "colab": {
          "base_uri": "https://localhost:8080/"
        },
        "id": "9rrki-w45Wsu",
        "outputId": "119567bc-516c-498f-b26c-1fee4497806e"
      },
      "execution_count": 44,
      "outputs": [
        {
          "output_type": "stream",
          "name": "stdout",
          "text": [
            "Downloading...\n",
            "From: https://drive.google.com/uc?id=1-7H4akC0ZWv1sSXJmmQXKW9pcBa1jsDz\n",
            "To: /content/my_QmodelB_49iterations.keras\n",
            "\r  0% 0.00/148k [00:00<?, ?B/s]\r100% 148k/148k [00:00<00:00, 106MB/s]\n",
            "my_QmodelB_49iterations.keras\n"
          ]
        }
      ]
    },
    {
      "cell_type": "code",
      "source": [
        "import matplotlib.pyplot as plt\n",
        "import gymnasium as gym\n",
        "import tensorflow as tf\n",
        "\n",
        "from tensorflow.keras.models import load_model\n",
        "\n",
        "model = load_model(save_path, compile=False)\n",
        "model.compile(\n",
        "    loss=tf.keras.losses.MeanSquaredError(),\n",
        "    optimizer=tf.keras.optimizers.Adam(learning_rate=0.01),\n",
        ")"
      ],
      "metadata": {
        "id": "uovqNleA7SB4"
      },
      "execution_count": 45,
      "outputs": []
    },
    {
      "cell_type": "code",
      "execution_count": 46,
      "metadata": {
        "colab": {
          "base_uri": "https://localhost:8080/",
          "height": 792
        },
        "id": "_vnZPrO0W4c3",
        "outputId": "fe1b4109-ab61-4c4f-8d52-ee879d3e5ac8"
      },
      "outputs": [
        {
          "output_type": "display_data",
          "data": {
            "text/plain": [
              "<Figure size 640x480 with 1 Axes>"
            ],
            "image/png": "[encoded data removed]"
          },
          "metadata": {}
        },
        {
          "output_type": "stream",
          "name": "stdout",
          "text": [
            "action=1, total_reward=1.0\n"
          ]
        },
        {
          "output_type": "display_data",
          "data": {
            "text/plain": [
              "<Figure size 640x480 with 1 Axes>"
            ],
            "image/png": "[encoded data removed]"
          },
          "metadata": {}
        }
      ],
      "source": [
        "env = gym.make(\"CartPole-v1\", render_mode=\"rgb_array\")\n",
        "state, _ = env.reset()\n",
        "done = False\n",
        "total_reward = 0\n",
        "state_image=env.render()\n",
        "plt.imshow(state_image)\n",
        "plt.show()\n",
        "\n",
        "state_image=env.render()\n",
        "action = model.predict(state[np.newaxis, :], verbose=False).argmax(axis=1)[0]\n",
        "state, reward, done, _, _ = env.step(action)\n",
        "total_reward += reward\n",
        "print (f\"{action=}, {total_reward=}\")\n",
        "state_image=env.render()\n",
        "plt.imshow(state_image)\n",
        "plt.show()"
      ]
    },
    {
      "cell_type": "code",
      "source": [
        "env = gym.make(\"CartPole-v1\", render_mode=\"human\")\n",
        "\n",
        "state, _ = env.reset()\n",
        "done = False\n",
        "total_reward = 0\n",
        "\n",
        "while not done and total_reward < 500:  # force end the game after 500 time steps because the model is too good!\n",
        "    env.render()\n",
        "    action = model.predict(state[np.newaxis, :], verbose=False).argmax(axis=1)[0]\n",
        "    state, reward, done, _, _ = env.step(action)\n",
        "    total_reward += reward\n",
        "\n",
        "env.close()\n",
        "print (f\"{total_reward=}\")"
      ],
      "metadata": {
        "colab": {
          "base_uri": "https://localhost:8080/"
        },
        "id": "dBZ3Dkjf67DV",
        "outputId": "4a3b39bc-5327-4c58-d224-187c70c5c67f"
      },
      "execution_count": 64,
      "outputs": [
        {
          "output_type": "stream",
          "name": "stdout",
          "text": [
            "total_reward=363.0\n"
          ]
        }
      ]
    },
    {
      "cell_type": "code",
      "execution_count": 65,
      "metadata": {
        "id": "-zerAhDxXOC6"
      },
      "outputs": [],
      "source": [
        "env.close()"
      ]
    },
    {
      "cell_type": "markdown",
      "source": [
        "I reduced the number of episodes in the Deep Q-learning model from 1000 to 50 because it was taking too long to compile. Initially, with 1000 episodes, the reward was around 500, showing strong performance. After lowering it to 50 episodes, the reward dropped to 104. I also reduced the exploration rate (`eps`) from 1.0 to 0.75, which made the agent less exploratory, but it resulted in missing out on better strategies.\n",
        "\n",
        "To counter this, I increased the gamma value from 0.95 to 1.5, which helped improve the reward to 141 from 104. The higher gamma encouraged the agent to focus more on long-term rewards, leading to better overall performance. Although these changes sped up the training process, there was a noticeable trade-off in performance.\n",
        "\n",
        "After playing around with the parameters, the final reward I achieved was 363, which is pretty good. However, I also noticed an interesting behavior: even when I didn’t change any parameters and ran the same code block multiple times, the compilation time varied. What stood out was that I tended to get higher rewards when the compilation time was longer. This suggests that factors like the processing load or randomness in execution might be influencing the training process and performance, even when the parameters are consistent."
      ],
      "metadata": {
        "id": "EOGtg4BK5_87"
      }
    }
  ],
  "metadata": {
    "colab": {
      "provenance": [],
      "machine_shape": "hm",
      "gpuType": "V28"
    },
    "kernelspec": {
      "display_name": "Python 3",
      "name": "python3"
    },
    "language_info": {
      "name": "python"
    },
    "widgets": {
      "application/vnd.jupyter.widget-state+json": {
        "8f1b2b873213444aab047f4058fe29c6": {
          "model_module": "@jupyter-widgets/controls",
          "model_name": "HBoxModel",
          "model_module_version": "1.5.0",
          "state": {
            "_dom_classes": [],
            "_model_module": "@jupyter-widgets/controls",
            "_model_module_version": "1.5.0",
            "_model_name": "HBoxModel",
            "_view_count": null,
            "_view_module": "@jupyter-widgets/controls",
            "_view_module_version": "1.5.0",
            "_view_name": "HBoxView",
            "box_style": "",
            "children": [
              "IPY_MODEL_1897359f23614389bb792aac4a1cd50b",
              "IPY_MODEL_9da0ea0de48947d7830dde811167e873",
              "IPY_MODEL_9ca0df7ea1ae42268994be9360e58fc3"
            ],
            "layout": "IPY_MODEL_541edc18f965429385db581e9d07ce1d"
          }
        },
        "1897359f23614389bb792aac4a1cd50b": {
          "model_module": "@jupyter-widgets/controls",
          "model_name": "HTMLModel",
          "model_module_version": "1.5.0",
          "state": {
            "_dom_classes": [],
            "_model_module": "@jupyter-widgets/controls",
            "_model_module_version": "1.5.0",
            "_model_name": "HTMLModel",
            "_view_count": null,
            "_view_module": "@jupyter-widgets/controls",
            "_view_module_version": "1.5.0",
            "_view_name": "HTMLView",
            "description": "",
            "description_tooltip": null,
            "layout": "IPY_MODEL_949b884898244d1eb8a4632a60f2f445",
            "placeholder": "​",
            "style": "IPY_MODEL_603d3117823b42d1b03a86b410c70423",
            "value": "100%"
          }
        },
        "9da0ea0de48947d7830dde811167e873": {
          "model_module": "@jupyter-widgets/controls",
          "model_name": "FloatProgressModel",
          "model_module_version": "1.5.0",
          "state": {
            "_dom_classes": [],
            "_model_module": "@jupyter-widgets/controls",
            "_model_module_version": "1.5.0",
            "_model_name": "FloatProgressModel",
            "_view_count": null,
            "_view_module": "@jupyter-widgets/controls",
            "_view_module_version": "1.5.0",
            "_view_name": "ProgressView",
            "bar_style": "success",
            "description": "",
            "description_tooltip": null,
            "layout": "IPY_MODEL_aff28644ab864e9da2b97fae6b4a4574",
            "max": 50,
            "min": 0,
            "orientation": "horizontal",
            "style": "IPY_MODEL_ce92973ab29b440b9e736a1da4a4134c",
            "value": 50
          }
        },
        "9ca0df7ea1ae42268994be9360e58fc3": {
          "model_module": "@jupyter-widgets/controls",
          "model_name": "HTMLModel",
          "model_module_version": "1.5.0",
          "state": {
            "_dom_classes": [],
            "_model_module": "@jupyter-widgets/controls",
            "_model_module_version": "1.5.0",
            "_model_name": "HTMLModel",
            "_view_count": null,
            "_view_module": "@jupyter-widgets/controls",
            "_view_module_version": "1.5.0",
            "_view_name": "HTMLView",
            "description": "",
            "description_tooltip": null,
            "layout": "IPY_MODEL_51b1ae7d77384e0080ac7d6bfcbe0cd9",
            "placeholder": "​",
            "style": "IPY_MODEL_0bc409c0295546aa8b5b675570fad855",
            "value": " 50/50 [09:58&lt;00:00, 22.05s/it]"
          }
        },
        "541edc18f965429385db581e9d07ce1d": {
          "model_module": "@jupyter-widgets/base",
          "model_name": "LayoutModel",
          "model_module_version": "1.2.0",
          "state": {
            "_model_module": "@jupyter-widgets/base",
            "_model_module_version": "1.2.0",
            "_model_name": "LayoutModel",
            "_view_count": null,
            "_view_module": "@jupyter-widgets/base",
            "_view_module_version": "1.2.0",
            "_view_name": "LayoutView",
            "align_content": null,
            "align_items": null,
            "align_self": null,
            "border": null,
            "bottom": null,
            "display": null,
            "flex": null,
            "flex_flow": null,
            "grid_area": null,
            "grid_auto_columns": null,
            "grid_auto_flow": null,
            "grid_auto_rows": null,
            "grid_column": null,
            "grid_gap": null,
            "grid_row": null,
            "grid_template_areas": null,
            "grid_template_columns": null,
            "grid_template_rows": null,
            "height": null,
            "justify_content": null,
            "justify_items": null,
            "left": null,
            "margin": null,
            "max_height": null,
            "max_width": null,
            "min_height": null,
            "min_width": null,
            "object_fit": null,
            "object_position": null,
            "order": null,
            "overflow": null,
            "overflow_x": null,
            "overflow_y": null,
            "padding": null,
            "right": null,
            "top": null,
            "visibility": null,
            "width": null
          }
        },
        "949b884898244d1eb8a4632a60f2f445": {
          "model_module": "@jupyter-widgets/base",
          "model_name": "LayoutModel",
          "model_module_version": "1.2.0",
          "state": {
            "_model_module": "@jupyter-widgets/base",
            "_model_module_version": "1.2.0",
            "_model_name": "LayoutModel",
            "_view_count": null,
            "_view_module": "@jupyter-widgets/base",
            "_view_module_version": "1.2.0",
            "_view_name": "LayoutView",
            "align_content": null,
            "align_items": null,
            "align_self": null,
            "border": null,
            "bottom": null,
            "display": null,
            "flex": null,
            "flex_flow": null,
            "grid_area": null,
            "grid_auto_columns": null,
            "grid_auto_flow": null,
            "grid_auto_rows": null,
            "grid_column": null,
            "grid_gap": null,
            "grid_row": null,
            "grid_template_areas": null,
            "grid_template_columns": null,
            "grid_template_rows": null,
            "height": null,
            "justify_content": null,
            "justify_items": null,
            "left": null,
            "margin": null,
            "max_height": null,
            "max_width": null,
            "min_height": null,
            "min_width": null,
            "object_fit": null,
            "object_position": null,
            "order": null,
            "overflow": null,
            "overflow_x": null,
            "overflow_y": null,
            "padding": null,
            "right": null,
            "top": null,
            "visibility": null,
            "width": null
          }
        },
        "603d3117823b42d1b03a86b410c70423": {
          "model_module": "@jupyter-widgets/controls",
          "model_name": "DescriptionStyleModel",
          "model_module_version": "1.5.0",
          "state": {
            "_model_module": "@jupyter-widgets/controls",
            "_model_module_version": "1.5.0",
            "_model_name": "DescriptionStyleModel",
            "_view_count": null,
            "_view_module": "@jupyter-widgets/base",
            "_view_module_version": "1.2.0",
            "_view_name": "StyleView",
            "description_width": ""
          }
        },
        "aff28644ab864e9da2b97fae6b4a4574": {
          "model_module": "@jupyter-widgets/base",
          "model_name": "LayoutModel",
          "model_module_version": "1.2.0",
          "state": {
            "_model_module": "@jupyter-widgets/base",
            "_model_module_version": "1.2.0",
            "_model_name": "LayoutModel",
            "_view_count": null,
            "_view_module": "@jupyter-widgets/base",
            "_view_module_version": "1.2.0",
            "_view_name": "LayoutView",
            "align_content": null,
            "align_items": null,
            "align_self": null,
            "border": null,
            "bottom": null,
            "display": null,
            "flex": null,
            "flex_flow": null,
            "grid_area": null,
            "grid_auto_columns": null,
            "grid_auto_flow": null,
            "grid_auto_rows": null,
            "grid_column": null,
            "grid_gap": null,
            "grid_row": null,
            "grid_template_areas": null,
            "grid_template_columns": null,
            "grid_template_rows": null,
            "height": null,
            "justify_content": null,
            "justify_items": null,
            "left": null,
            "margin": null,
            "max_height": null,
            "max_width": null,
            "min_height": null,
            "min_width": null,
            "object_fit": null,
            "object_position": null,
            "order": null,
            "overflow": null,
            "overflow_x": null,
            "overflow_y": null,
            "padding": null,
            "right": null,
            "top": null,
            "visibility": null,
            "width": null
          }
        },
        "ce92973ab29b440b9e736a1da4a4134c": {
          "model_module": "@jupyter-widgets/controls",
          "model_name": "ProgressStyleModel",
          "model_module_version": "1.5.0",
          "state": {
            "_model_module": "@jupyter-widgets/controls",
            "_model_module_version": "1.5.0",
            "_model_name": "ProgressStyleModel",
            "_view_count": null,
            "_view_module": "@jupyter-widgets/base",
            "_view_module_version": "1.2.0",
            "_view_name": "StyleView",
            "bar_color": null,
            "description_width": ""
          }
        },
        "51b1ae7d77384e0080ac7d6bfcbe0cd9": {
          "model_module": "@jupyter-widgets/base",
          "model_name": "LayoutModel",
          "model_module_version": "1.2.0",
          "state": {
            "_model_module": "@jupyter-widgets/base",
            "_model_module_version": "1.2.0",
            "_model_name": "LayoutModel",
            "_view_count": null,
            "_view_module": "@jupyter-widgets/base",
            "_view_module_version": "1.2.0",
            "_view_name": "LayoutView",
            "align_content": null,
            "align_items": null,
            "align_self": null,
            "border": null,
            "bottom": null,
            "display": null,
            "flex": null,
            "flex_flow": null,
            "grid_area": null,
            "grid_auto_columns": null,
            "grid_auto_flow": null,
            "grid_auto_rows": null,
            "grid_column": null,
            "grid_gap": null,
            "grid_row": null,
            "grid_template_areas": null,
            "grid_template_columns": null,
            "grid_template_rows": null,
            "height": null,
            "justify_content": null,
            "justify_items": null,
            "left": null,
            "margin": null,
            "max_height": null,
            "max_width": null,
            "min_height": null,
            "min_width": null,
            "object_fit": null,
            "object_position": null,
            "order": null,
            "overflow": null,
            "overflow_x": null,
            "overflow_y": null,
            "padding": null,
            "right": null,
            "top": null,
            "visibility": null,
            "width": null
          }
        },
        "0bc409c0295546aa8b5b675570fad855": {
          "model_module": "@jupyter-widgets/controls",
          "model_name": "DescriptionStyleModel",
          "model_module_version": "1.5.0",
          "state": {
            "_model_module": "@jupyter-widgets/controls",
            "_model_module_version": "1.5.0",
            "_model_name": "DescriptionStyleModel",
            "_view_count": null,
            "_view_module": "@jupyter-widgets/base",
            "_view_module_version": "1.2.0",
            "_view_name": "StyleView",
            "description_width": ""
          }
        }
      }
    },
    "accelerator": "TPU"
  },
  "nbformat": 4,
  "nbformat_minor": 0
}